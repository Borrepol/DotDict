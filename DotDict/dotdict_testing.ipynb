{
 "cells": [
  {
   "cell_type": "code",
   "execution_count": null,
   "metadata": {},
   "outputs": [],
   "source": [
    "%load_ext autoreload\n",
    "%autoreload 2\n",
    "\n",
    "import dotdict as dd\n",
    "from dotdict import DotDict"
   ]
  },
  {
   "cell_type": "code",
   "execution_count": null,
   "metadata": {},
   "outputs": [],
   "source": [
    "a = {'a': 10, 'b': 71}\n",
    "aa = DotDict(a)\n",
    "aa"
   ]
  },
  {
   "cell_type": "code",
   "execution_count": null,
   "metadata": {},
   "outputs": [],
   "source": [
    "b = {'a': 4, 'b': {'c': 100, 'd': 10239}}\n",
    "bb = DotDict(b, debug=False)\n",
    "bb"
   ]
  },
  {
   "cell_type": "code",
   "execution_count": null,
   "metadata": {},
   "outputs": [],
   "source": [
    "c = DotDict(one=1, two=2)\n",
    "c"
   ]
  },
  {
   "cell_type": "code",
   "execution_count": null,
   "metadata": {},
   "outputs": [],
   "source": [
    "print(\n",
    "    bb['a'],\n",
    "    bb.a,\n",
    "    bb['b'],\n",
    "    bb.b,\n",
    "    bb.debug,\n",
    "    sep='\\n'\n",
    ")"
   ]
  },
  {
   "cell_type": "code",
   "execution_count": null,
   "metadata": {},
   "outputs": [],
   "source": [
    "bb.debug = True"
   ]
  },
  {
   "cell_type": "code",
   "execution_count": null,
   "metadata": {},
   "outputs": [],
   "source": [
    "bb.debug"
   ]
  },
  {
   "cell_type": "code",
   "execution_count": null,
   "metadata": {},
   "outputs": [],
   "source": [
    "bb.toggle_debug()"
   ]
  },
  {
   "cell_type": "code",
   "execution_count": null,
   "metadata": {},
   "outputs": [],
   "source": [
    "dict(bb)\n",
    "# Casting back to a dict doesn't automatically convert all inner\n",
    "# dotdicts to dicts."
   ]
  },
  {
   "cell_type": "code",
   "execution_count": null,
   "metadata": {},
   "outputs": [],
   "source": [
    "bb.as_dict()"
   ]
  },
  {
   "cell_type": "code",
   "execution_count": null,
   "metadata": {},
   "outputs": [],
   "source": [
    "bb.__dict__"
   ]
  },
  {
   "cell_type": "code",
   "execution_count": null,
   "metadata": {},
   "outputs": [],
   "source": [
    "bb.c = 10"
   ]
  },
  {
   "cell_type": "code",
   "execution_count": null,
   "metadata": {},
   "outputs": [],
   "source": [
    "bb._hoi = 5"
   ]
  },
  {
   "cell_type": "code",
   "execution_count": null,
   "metadata": {},
   "outputs": [],
   "source": [
    "bb._DotDict__hoi = 10"
   ]
  },
  {
   "attachments": {},
   "cell_type": "markdown",
   "metadata": {},
   "source": [
    "Partition implementations speed comparison"
   ]
  },
  {
   "cell_type": "code",
   "execution_count": null,
   "metadata": {},
   "outputs": [],
   "source": [
    "q = list(range(1000))\n",
    "r = lambda n: n % 2"
   ]
  },
  {
   "cell_type": "code",
   "execution_count": null,
   "metadata": {},
   "outputs": [],
   "source": [
    "%timeit dd.partition(r, q)"
   ]
  },
  {
   "cell_type": "code",
   "execution_count": null,
   "metadata": {},
   "outputs": [],
   "source": [
    "%timeit dd.partitionx(r, q)"
   ]
  },
  {
   "attachments": {},
   "cell_type": "markdown",
   "metadata": {},
   "source": [
    "Speed comparison between `filter()` in `__iter__` and `as_dict()`"
   ]
  },
  {
   "cell_type": "code",
   "execution_count": null,
   "metadata": {},
   "outputs": [],
   "source": [
    "from timing import time_func\n",
    "time_func(dict, [bb], 1000000)"
   ]
  },
  {
   "attachments": {},
   "cell_type": "markdown",
   "metadata": {},
   "source": [
    "`as_dict()`\n",
    "```\n",
    "Total time taken: 0.766301978030242 \n",
    "Average time per iteration: 7.66301978030242e-07 \n",
    "Standard deviation: 2.9076185924853917e-07\n",
    "Median: 7.500057108700275e-07 \n",
    "Longest time: 0.00010466598905622959 \n",
    "Shortest time: 6.249756552278996e-07\n",
    "```\n",
    "\n",
    "Updated `as_dict()`\n",
    "```\n",
    "Total time taken: 0.7289091332349926 \n",
    "Average time per iteration: 7.289091332349926e-07 \n",
    "Standard deviation: 2.2147264020848343e-07\n",
    "Median: 7.080088835209608e-07 \n",
    "Longest time: 8.95409903023392e-05 \n",
    "Shortest time: 5.829788278788328e-07\n",
    "```\n",
    "\n",
    "`filter()`\n",
    "```\n",
    "Total time taken: 0.9377548526390456 \n",
    "Average time per iteration: 9.377548526390456e-07 \n",
    "Standard deviation: 2.592479778803312e-07\n",
    "Median: 9.170034900307655e-07 \n",
    "Longest time: 0.00011566700413823128 \n",
    "Shortest time: 7.909839041531086e-07\n",
    "```"
   ]
  },
  {
   "attachments": {},
   "cell_type": "markdown",
   "metadata": {},
   "source": [
    "I guess what I expected, since filter will move through all items and a dictionary `.pop()` method will likely use some kind of binary search. This means the complexity of `filter()` will be O(n) and that of `.pop()` is O(log n).\n",
    "\n",
    "Interesting idea nonetheless so I will save the code below."
   ]
  },
  {
   "cell_type": "code",
   "execution_count": null,
   "metadata": {},
   "outputs": [],
   "source": [
    "def __iter__(self):\n",
    "        def __filter(item):\n",
    "            key, _ = item\n",
    "            return key != self.__prefix + '__settings'\n",
    "\n",
    "        return filter(__filter, self.__dict__.items())"
   ]
  },
  {
   "attachments": {},
   "cell_type": "markdown",
   "metadata": {},
   "source": [
    "Maybe important note:\n",
    "\n",
    "Note that `super()` is implemented as part of the binding process for explicit dotted attribute lookups such as `super().__getitem__(name)`. It does so by implementing its own `__getattribute__()` method for searching classes in a predictable order that supports cooperative multiple inheritance. Accordingly, `super()` is undefined for implicit lookups using statements or operators such as `super()[name]`.\n",
    "\n",
    "From: https://docs.python.org/3/library/functions.html#super\n",
    "\n",
    "But I guess it also means my intuition about using `super()__getattribute__(__name)` for accessing settings is right. (even though it might internally be hacky.)"
   ]
  },
  {
   "attachments": {},
   "cell_type": "markdown",
   "metadata": {},
   "source": [
    "Important note: (from https://wiki.python.org/moin/UsingSlots)\n",
    "\n",
    "By default, when Python creates a new instance of a class, it creates a `__dict__` attribute for the class. The `__dict__` attribute is a dictionary whose keys are the variable names and whose values are the variable values. This allows for dynamic variable creation but can also lead to uncaught errors.\n",
    "\n",
    "So if you want to implement `__setitem__` and `__getitem__`, is it not better to directly edit the `__dict__`? Instead of what you're doing now: call `self.__setattr__()`"
   ]
  },
  {
   "attachments": {},
   "cell_type": "markdown",
   "metadata": {},
   "source": [
    "Testing which is faster:\n",
    "```py\n",
    "__data = dict(__data, **kwargs)\n",
    "```\n",
    "or:\n",
    "```py\n",
    "if kwargs:\n",
    "    __data = dict(__data, **kwargs)\n",
    "```"
   ]
  },
  {
   "cell_type": "code",
   "execution_count": null,
   "metadata": {},
   "outputs": [],
   "source": [
    "params = [a]\n",
    "kwargs = {'one': 1}"
   ]
  },
  {
   "cell_type": "code",
   "execution_count": null,
   "metadata": {},
   "outputs": [],
   "source": [
    "time_func(DotDict, params, iterations=1000000, kwargs=kwargs)"
   ]
  },
  {
   "attachments": {},
   "cell_type": "markdown",
   "metadata": {},
   "source": [
    "Saved as markdown for future reference:\n",
    "\n",
    "Old (without if):\n",
    "```\n",
    "Total time taken: 1.2708917100826511 \n",
    "Average time per iteration: 1.2708917100826511e-06 \n",
    "Standard deviation: 4.773030086862648e-07\n",
    "Median: 1.2499949662014842e-06 \n",
    "Longest time: 9.908300125971437e-05 \n",
    "Shortest time: 1.0829971870407462e-06\n",
    "```\n",
    "\n",
    "New (with if):\n",
    "```\n",
    "Total time taken: 1.194327569566667 \n",
    "Average time per iteration: 1.194327569566667e-06 \n",
    "Standard deviation: 3.6330861553044284e-07\n",
    "Median: 1.167005393654108e-06 \n",
    "Longest time: 9.662499360274523e-05 \n",
    "Shortest time: 1.0410003596916795e-06\n",
    "```\n",
    "\n",
    "So new is definitely better. With the if-statement!"
   ]
  }
 ],
 "metadata": {
  "kernelspec": {
   "display_name": "Python 3",
   "language": "python",
   "name": "python3"
  },
  "language_info": {
   "codemirror_mode": {
    "name": "ipython",
    "version": 3
   },
   "file_extension": ".py",
   "mimetype": "text/x-python",
   "name": "python",
   "nbconvert_exporter": "python",
   "pygments_lexer": "ipython3",
   "version": "3.10.0"
  },
  "orig_nbformat": 4
 },
 "nbformat": 4,
 "nbformat_minor": 2
}
